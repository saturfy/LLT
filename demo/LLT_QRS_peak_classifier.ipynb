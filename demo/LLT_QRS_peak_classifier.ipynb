{
 "cells": [
  {
   "cell_type": "code",
   "execution_count": 5,
   "id": "5071d2f1",
   "metadata": {},
   "outputs": [],
   "source": [
    "# custom packages\n",
    "from LLT import preprocessing as pp\n",
    "from LLT import linear_law as ll\n",
    "\n",
    "# standard packages\n",
    "import matplotlib.pyplot as plt\n",
    "from sklearn.model_selection import train_test_split\n",
    "from sklearn.metrics import confusion_matrix\n",
    "import numpy as np"
   ]
  },
  {
   "cell_type": "markdown",
   "id": "2bcaff3f",
   "metadata": {},
   "source": [
    "# Prepare the datasets"
   ]
  },
  {
   "cell_type": "markdown",
   "id": "ed6fd28b",
   "metadata": {},
   "source": [
    "## Load the data"
   ]
  },
  {
   "cell_type": "code",
   "execution_count": 6,
   "id": "e578c3e3",
   "metadata": {},
   "outputs": [],
   "source": [
    "# train file name\n",
    "train_file = \"ecg_train.mat\"\n",
    "\n",
    "# test file name\n",
    "test_file = \"ecg_test.mat\"\n",
    "\n",
    "# loading the raw train data\n",
    "train_data, train_data_labels = pp.Load_VPNet_data(train_file)\n",
    "\n",
    "# Loading the raw test data\n",
    "test_data, test_data_labels = pp.Load_VPNet_data(test_file)"
   ]
  },
  {
   "cell_type": "markdown",
   "id": "3cadb450",
   "metadata": {},
   "source": [
    "## Create, train, validation, test"
   ]
  },
  {
   "cell_type": "code",
   "execution_count": 7,
   "id": "37b3ff4a",
   "metadata": {},
   "outputs": [],
   "source": [
    "train_samples, validation_samples, train_labels, validation_labels = train_test_split(train_data, train_data_labels, \n",
    "                                                                          test_size=0.6, \n",
    "                                                                          random_state=0, \n",
    "                                                                          stratify= train_data_labels)"
   ]
  },
  {
   "cell_type": "code",
   "execution_count": 8,
   "id": "f15f49dd",
   "metadata": {},
   "outputs": [],
   "source": [
    "test_samples = test_data\n",
    "test_labels = test_data_labels"
   ]
  },
  {
   "cell_type": "markdown",
   "id": "5a778801",
   "metadata": {},
   "source": [
    "## Resample"
   ]
  },
  {
   "cell_type": "code",
   "execution_count": 9,
   "id": "172f7bd6",
   "metadata": {},
   "outputs": [],
   "source": [
    "train_samples = pp.Resample(train_samples, 360, 250)\n",
    "test_samples = pp.Resample(test_samples, 360, 250)\n",
    "validation_samples = pp.Resample(validation_samples, 360, 250)"
   ]
  },
  {
   "cell_type": "markdown",
   "id": "1728ab63",
   "metadata": {},
   "source": [
    "## Noise filtering"
   ]
  },
  {
   "cell_type": "code",
   "execution_count": 10,
   "id": "843c0d73",
   "metadata": {},
   "outputs": [],
   "source": [
    "train_samples = pp.denoise(train_samples)\n",
    "test_samples = pp.denoise(test_samples)\n",
    "validation_samples = pp.denoise(validation_samples)"
   ]
  },
  {
   "cell_type": "markdown",
   "id": "0d3a9fc2",
   "metadata": {},
   "source": [
    "# Feature generation"
   ]
  },
  {
   "cell_type": "markdown",
   "id": "9e83dc7c",
   "metadata": {},
   "source": [
    "## Create peak dataset"
   ]
  },
  {
   "cell_type": "code",
   "execution_count": 11,
   "id": "38ec383a",
   "metadata": {},
   "outputs": [],
   "source": [
    "# these peak search proterties are used everywhere in this document\n",
    "peak_settings = {'normalize':\"max\", 'peak_height':0.99, 'window':[13, 16]} "
   ]
  },
  {
   "cell_type": "code",
   "execution_count": 12,
   "id": "45830fe8",
   "metadata": {},
   "outputs": [],
   "source": [
    "train_peak_data = pp.Peak_data(train_samples, **peak_settings)"
   ]
  },
  {
   "cell_type": "code",
   "execution_count": 13,
   "id": "48aa3d28",
   "metadata": {},
   "outputs": [],
   "source": [
    "train_peak_samples, train_peak_labels = train_peak_data.generate_peak_dataset(train_labels)"
   ]
  },
  {
   "cell_type": "markdown",
   "id": "86f70ca0",
   "metadata": {},
   "source": [
    "## Train the linear model on the normal beats"
   ]
  },
  {
   "cell_type": "markdown",
   "id": "170d1dbf",
   "metadata": {},
   "source": [
    "### Select the normal peaks"
   ]
  },
  {
   "cell_type": "code",
   "execution_count": 14,
   "id": "edc4212d",
   "metadata": {},
   "outputs": [],
   "source": [
    "normal_train_peak_samples = train_peak_samples[np.where(train_peak_labels == 1)[0]]"
   ]
  },
  {
   "cell_type": "markdown",
   "id": "3e3b0e67",
   "metadata": {},
   "source": [
    "### Train a linear law on the normal peaks"
   ]
  },
  {
   "cell_type": "code",
   "execution_count": 15,
   "id": "c5267d81",
   "metadata": {},
   "outputs": [],
   "source": [
    "llaw = ll.linear_model(normal_train_peak_samples, 10)"
   ]
  },
  {
   "cell_type": "code",
   "execution_count": 16,
   "id": "c8305a9f",
   "metadata": {},
   "outputs": [],
   "source": [
    "llaw.fit()"
   ]
  },
  {
   "cell_type": "code",
   "execution_count": 17,
   "id": "66274d8d",
   "metadata": {},
   "outputs": [
    {
     "data": {
      "text/plain": [
       "array([-0.00456718,  0.03553229, -0.13091927,  0.30169969, -0.48289173,\n",
       "        0.56207008, -0.48223705,  0.30096837, -0.13052494,  0.03542311,\n",
       "       -0.00455481])"
      ]
     },
     "execution_count": 17,
     "metadata": {},
     "output_type": "execute_result"
    }
   ],
   "source": [
    "# --- Check the linear law ---\n",
    "llaw.linear_law"
   ]
  },
  {
   "cell_type": "code",
   "execution_count": 18,
   "id": "76868ccf",
   "metadata": {},
   "outputs": [
    {
     "data": {
      "text/plain": [
       "1.6878114431588527e-07"
      ]
     },
     "execution_count": 18,
     "metadata": {},
     "output_type": "execute_result"
    }
   ],
   "source": [
    "# Check how well it describes the dataset ---\n",
    "llaw.score"
   ]
  },
  {
   "cell_type": "code",
   "execution_count": 19,
   "id": "d60d069e",
   "metadata": {},
   "outputs": [],
   "source": [
    "# --- Check the eigenvalues ---\n",
    "eivals = np.sort(llaw.PCA_eigenvalues)[::-1]"
   ]
  },
  {
   "cell_type": "code",
   "execution_count": 21,
   "id": "cc060a1d",
   "metadata": {},
   "outputs": [
    {
     "data": {
      "image/png": "[encoded data removed]",
      "text/plain": [
       "<Figure size 640x480 with 1 Axes>"
      ]
     },
     "metadata": {},
     "output_type": "display_data"
    }
   ],
   "source": [
    "plt.plot(eivals,\"-o\")\n",
    "plt.grid()\n",
    "plt.yscale(\"log\")"
   ]
  },
  {
   "cell_type": "markdown",
   "id": "454e5d53",
   "metadata": {},
   "source": [
    "## Generate features to train the classificator"
   ]
  },
  {
   "cell_type": "code",
   "execution_count": 22,
   "id": "805a0b45",
   "metadata": {},
   "outputs": [],
   "source": [
    "tf_train_peak_samples = llaw.feature_transform(train_peak_samples)"
   ]
  },
  {
   "cell_type": "markdown",
   "id": "e3530d3f",
   "metadata": {},
   "source": [
    "# Train A support vector machine on the generated features and test the model"
   ]
  },
  {
   "cell_type": "markdown",
   "id": "966a3286",
   "metadata": {},
   "source": [
    "## SVM fit"
   ]
  },
  {
   "cell_type": "code",
   "execution_count": 23,
   "id": "65358a45",
   "metadata": {},
   "outputs": [
    {
     "data": {
      "text/html": [
       "<style>#sk-container-id-1 {color: black;background-color: white;}#sk-container-id-1 pre{padding: 0;}#sk-container-id-1 div.sk-toggleable {background-color: white;}#sk-container-id-1 label.sk-toggleable__label {cursor: pointer;display: block;width: 100%;margin-bottom: 0;padding: 0.3em;box-sizing: border-box;text-align: center;}#sk-container-id-1 label.sk-toggleable__label-arrow:before {content: \"▸\";float: left;margin-right: 0.25em;color: #696969;}#sk-container-id-1 label.sk-toggleable__label-arrow:hover:before {color: black;}#sk-container-id-1 div.sk-estimator:hover label.sk-toggleable__label-arrow:before {color: black;}#sk-container-id-1 div.sk-toggleable__content {max-height: 0;max-width: 0;overflow: hidden;text-align: left;background-color: #f0f8ff;}#sk-container-id-1 div.sk-toggleable__content pre {margin: 0.2em;color: black;border-radius: 0.25em;background-color: #f0f8ff;}#sk-container-id-1 input.sk-toggleable__control:checked~div.sk-toggleable__content {max-height: 200px;max-width: 100%;overflow: auto;}#sk-container-id-1 input.sk-toggleable__control:checked~label.sk-toggleable__label-arrow:before {content: \"▾\";}#sk-container-id-1 div.sk-estimator input.sk-toggleable__control:checked~label.sk-toggleable__label {background-color: #d4ebff;}#sk-container-id-1 div.sk-label input.sk-toggleable__control:checked~label.sk-toggleable__label {background-color: #d4ebff;}#sk-container-id-1 input.sk-hidden--visually {border: 0;clip: rect(1px 1px 1px 1px);clip: rect(1px, 1px, 1px, 1px);height: 1px;margin: -1px;overflow: hidden;padding: 0;position: absolute;width: 1px;}#sk-container-id-1 div.sk-estimator {font-family: monospace;background-color: #f0f8ff;border: 1px dotted black;border-radius: 0.25em;box-sizing: border-box;margin-bottom: 0.5em;}#sk-container-id-1 div.sk-estimator:hover {background-color: #d4ebff;}#sk-container-id-1 div.sk-parallel-item::after {content: \"\";width: 100%;border-bottom: 1px solid gray;flex-grow: 1;}#sk-container-id-1 div.sk-label:hover label.sk-toggleable__label {background-color: #d4ebff;}#sk-container-id-1 div.sk-serial::before {content: \"\";position: absolute;border-left: 1px solid gray;box-sizing: border-box;top: 0;bottom: 0;left: 50%;z-index: 0;}#sk-container-id-1 div.sk-serial {display: flex;flex-direction: column;align-items: center;background-color: white;padding-right: 0.2em;padding-left: 0.2em;position: relative;}#sk-container-id-1 div.sk-item {position: relative;z-index: 1;}#sk-container-id-1 div.sk-parallel {display: flex;align-items: stretch;justify-content: center;background-color: white;position: relative;}#sk-container-id-1 div.sk-item::before, #sk-container-id-1 div.sk-parallel-item::before {content: \"\";position: absolute;border-left: 1px solid gray;box-sizing: border-box;top: 0;bottom: 0;left: 50%;z-index: -1;}#sk-container-id-1 div.sk-parallel-item {display: flex;flex-direction: column;z-index: 1;position: relative;background-color: white;}#sk-container-id-1 div.sk-parallel-item:first-child::after {align-self: flex-end;width: 50%;}#sk-container-id-1 div.sk-parallel-item:last-child::after {align-self: flex-start;width: 50%;}#sk-container-id-1 div.sk-parallel-item:only-child::after {width: 0;}#sk-container-id-1 div.sk-dashed-wrapped {border: 1px dashed gray;margin: 0 0.4em 0.5em 0.4em;box-sizing: border-box;padding-bottom: 0.4em;background-color: white;}#sk-container-id-1 div.sk-label label {font-family: monospace;font-weight: bold;display: inline-block;line-height: 1.2em;}#sk-container-id-1 div.sk-label-container {text-align: center;}#sk-container-id-1 div.sk-container {/* jupyter's `normalize.less` sets `[hidden] { display: none; }` but bootstrap.min.css set `[hidden] { display: none !important; }` so we also need the `!important` here to be able to override the default hidden behavior on the sphinx rendered scikit-learn.org. See: https://github.com/scikit-learn/scikit-learn/issues/21755 */display: inline-block !important;position: relative;}#sk-container-id-1 div.sk-text-repr-fallback {display: none;}</style><div id=\"sk-container-id-1\" class=\"sk-top-container\"><div class=\"sk-text-repr-fallback\"><pre>SVC(random_state=0, tol=0.0001)</pre><b>In a Jupyter environment, please rerun this cell to show the HTML representation or trust the notebook. <br />On GitHub, the HTML representation is unable to render, please try loading this page with nbviewer.org.</b></div><div class=\"sk-container\" hidden><div class=\"sk-item\"><div class=\"sk-estimator sk-toggleable\"><input class=\"sk-toggleable__control sk-hidden--visually\" id=\"sk-estimator-id-1\" type=\"checkbox\" checked><label for=\"sk-estimator-id-1\" class=\"sk-toggleable__label sk-toggleable__label-arrow\">SVC</label><div class=\"sk-toggleable__content\"><pre>SVC(random_state=0, tol=0.0001)</pre></div></div></div></div></div>"
      ],
      "text/plain": [
       "SVC(random_state=0, tol=0.0001)"
      ]
     },
     "execution_count": 23,
     "metadata": {},
     "output_type": "execute_result"
    }
   ],
   "source": [
    "from sklearn import svm\n",
    "clf = svm.SVC(kernel='rbf',random_state=0, tol=1e-4)\n",
    "clf.fit(tf_train_peak_samples, train_peak_labels)"
   ]
  },
  {
   "cell_type": "markdown",
   "id": "c0e292d2",
   "metadata": {},
   "source": [
    "## Make predictions"
   ]
  },
  {
   "cell_type": "code",
   "execution_count": 19,
   "id": "b7c432d8",
   "metadata": {},
   "outputs": [],
   "source": [
    "predictions_validation = pp.general_predict(validation_samples, llaw, clf, **peak_settings)\n",
    "predictions_test = pp.general_predict(test_samples, llaw, clf, **peak_settings)"
   ]
  },
  {
   "cell_type": "markdown",
   "id": "5f26e1b8",
   "metadata": {},
   "source": [
    "## Validation set results"
   ]
  },
  {
   "cell_type": "code",
   "execution_count": 20,
   "id": "94f2c8a5",
   "metadata": {},
   "outputs": [
    {
     "name": "stdout",
     "output_type": "stream",
     "text": [
      "[[2462   94]\n",
      " [ 163 2393]]\n",
      "                 Total accuracy :  0.9497\n",
      "- - - - - - - - - - - - - - - - - - - - - \n",
      "             Normal sensitivity :  0.9632\n",
      "            Ectopic sensitivity :  0.9362\n",
      " Normal positive predictibility :  0.9379\n",
      "Ectopic positive predictibility :  0.9622\n"
     ]
    },
    {
     "data": {
      "text/plain": [
       "{'Total_accuracy': 0.9497261345852895,\n",
       " 'Normal_sensitivity': 0.9632237871674492,\n",
       " 'Ectopic_sensitivity ': 0.9362284820031299,\n",
       " 'Normal_positive_predictibility': 0.9379047619047619,\n",
       " 'Ectopic_positive_predictibility': 0.9622034579815039}"
      ]
     },
     "execution_count": 20,
     "metadata": {},
     "output_type": "execute_result"
    }
   ],
   "source": [
    "CM = confusion_matrix(validation_labels, predictions_validation)\n",
    "print(CM  )\n",
    "pp.performance_metrics(CM)"
   ]
  },
  {
   "cell_type": "markdown",
   "id": "4b9493e3",
   "metadata": {},
   "source": [
    "## Test set results"
   ]
  },
  {
   "cell_type": "code",
   "execution_count": 21,
   "id": "c24bd809",
   "metadata": {},
   "outputs": [
    {
     "name": "stdout",
     "output_type": "stream",
     "text": [
      "[[3039  181]\n",
      " [ 186 3034]]\n",
      "                 Total accuracy :  0.9430\n",
      "- - - - - - - - - - - - - - - - - - - - - \n",
      "             Normal sensitivity :  0.9438\n",
      "            Ectopic sensitivity :  0.9422\n",
      " Normal positive predictibility :  0.9423\n",
      "Ectopic positive predictibility :  0.9437\n"
     ]
    },
    {
     "data": {
      "text/plain": [
       "{'Total_accuracy': 0.9430124223602484,\n",
       " 'Normal_sensitivity': 0.9437888198757765,\n",
       " 'Ectopic_sensitivity ': 0.9422360248447205,\n",
       " 'Normal_positive_predictibility': 0.9423255813953488,\n",
       " 'Ectopic_positive_predictibility': 0.943701399688958}"
      ]
     },
     "execution_count": 21,
     "metadata": {},
     "output_type": "execute_result"
    }
   ],
   "source": [
    "CM = confusion_matrix(test_labels, predictions_test)\n",
    "print(CM  )\n",
    "pp.performance_metrics(CM)"
   ]
  },
  {
   "cell_type": "code",
   "execution_count": null,
   "id": "5ef27741",
   "metadata": {},
   "outputs": [],
   "source": []
  }
 ],
 "metadata": {
  "kernelspec": {
   "display_name": "testenv",
   "language": "python",
   "name": "testenv"
  },
  "language_info": {
   "codemirror_mode": {
    "name": "ipython",
    "version": 3
   },
   "file_extension": ".py",
   "mimetype": "text/x-python",
   "name": "python",
   "nbconvert_exporter": "python",
   "pygments_lexer": "ipython3",
   "version": "3.9.7"
  },
  "latex_envs": {
   "LaTeX_envs_menu_present": true,
   "autoclose": false,
   "autocomplete": true,
   "bibliofile": "biblio.bib",
   "cite_by": "apalike",
   "current_citInitial": 1,
   "eqLabelWithNumbers": true,
   "eqNumInitial": 1,
   "hotkeys": {
    "equation": "Ctrl-E",
    "itemize": "Ctrl-I"
   },
   "labels_anchors": false,
   "latex_user_defs": false,
   "report_style_numbering": false,
   "user_envs_cfg": false
  },
  "toc": {
   "base_numbering": 1,
   "nav_menu": {},
   "number_sections": true,
   "sideBar": true,
   "skip_h1_title": false,
   "title_cell": "Table of Contents",
   "title_sidebar": "Contents",
   "toc_cell": false,
   "toc_position": {},
   "toc_section_display": true,
   "toc_window_display": true
  }
 },
 "nbformat": 4,
 "nbformat_minor": 5
}
